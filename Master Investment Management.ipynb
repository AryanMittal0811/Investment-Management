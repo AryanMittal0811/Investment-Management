{
 "cells": [
  {
   "cell_type": "code",
   "execution_count": 140,
   "id": "cd3e6a7c",
   "metadata": {},
   "outputs": [],
   "source": [
    "import numpy as np\n",
    "import pandas as pd\n",
    "import matplotlib.pyplot as plt\n",
    "%matplotlib inline\n",
    "import seaborn as sns\n",
    "from datetime import datetime as dt\n",
    "sns.set_style('darkgrid')\n",
    "import warnings\n",
    "warnings.filterwarnings('ignore')\n",
    "import yfinance as yf"
   ]
  },
  {
   "cell_type": "code",
   "execution_count": 141,
   "id": "ec9bab50",
   "metadata": {},
   "outputs": [
    {
     "name": "stdout",
     "output_type": "stream",
     "text": [
      "Enter Index: ^NSEI\n",
      "Enter Stock 1: HDFCBANK.NS\n",
      "Enter Stock 2: SBIN.NS\n",
      "Enter Stock 3: AXISBANK.NS\n",
      "Enter starting date in YYYY-MM-DD format: 2022-01-01\n"
     ]
    }
   ],
   "source": [
    "Index = input('Enter Index: ')\n",
    "S1 = input('Enter Stock 1: ')\n",
    "S2 = input('Enter Stock 2: ')\n",
    "S3 = input('Enter Stock 3: ')\n",
    "Date =input('Enter starting date in YYYY-MM-DD format: ')\n",
    "Amt_Invested = 10000"
   ]
  },
  {
   "cell_type": "code",
   "execution_count": 142,
   "id": "71799f2a",
   "metadata": {},
   "outputs": [],
   "source": [
    "start = dt.strptime(Date,'%Y-%m-%d')\n",
    "end = dt.now()"
   ]
  },
  {
   "cell_type": "code",
   "execution_count": 143,
   "id": "87ddf652",
   "metadata": {},
   "outputs": [
    {
     "name": "stdout",
     "output_type": "stream",
     "text": [
      "[*********************100%***********************]  1 of 1 completed\n",
      "[*********************100%***********************]  1 of 1 completed\n",
      "[*********************100%***********************]  1 of 1 completed\n",
      "[*********************100%***********************]  1 of 1 completed\n"
     ]
    }
   ],
   "source": [
    "tickers = [str(Index),str(S1),str(S2),str(S3)]\n",
    "df = pd.DataFrame()\n",
    "for t in tickers:\n",
    "    data = yf.download(t,start,end,'1d')['Adj Close']\n",
    "    df[t] = data"
   ]
  },
  {
   "cell_type": "markdown",
   "id": "555b819e",
   "metadata": {},
   "source": [
    "# Individual VAR and ES"
   ]
  },
  {
   "cell_type": "code",
   "execution_count": 144,
   "id": "66137f30",
   "metadata": {},
   "outputs": [
    {
     "data": {
      "text/html": [
       "<div>\n",
       "<style scoped>\n",
       "    .dataframe tbody tr th:only-of-type {\n",
       "        vertical-align: middle;\n",
       "    }\n",
       "\n",
       "    .dataframe tbody tr th {\n",
       "        vertical-align: top;\n",
       "    }\n",
       "\n",
       "    .dataframe thead th {\n",
       "        text-align: right;\n",
       "    }\n",
       "</style>\n",
       "<table border=\"1\" class=\"dataframe\">\n",
       "  <thead>\n",
       "    <tr style=\"text-align: right;\">\n",
       "      <th></th>\n",
       "      <th>^NSEI</th>\n",
       "      <th>HDFCBANK.NS</th>\n",
       "      <th>SBIN.NS</th>\n",
       "      <th>AXISBANK.NS</th>\n",
       "      <th>^NSEI Return</th>\n",
       "      <th>HDFCBANK.NS Return</th>\n",
       "      <th>SBIN.NS Return</th>\n",
       "      <th>AXISBANK.NS Return</th>\n",
       "    </tr>\n",
       "    <tr>\n",
       "      <th>Date</th>\n",
       "      <th></th>\n",
       "      <th></th>\n",
       "      <th></th>\n",
       "      <th></th>\n",
       "      <th></th>\n",
       "      <th></th>\n",
       "      <th></th>\n",
       "      <th></th>\n",
       "    </tr>\n",
       "  </thead>\n",
       "  <tbody>\n",
       "    <tr>\n",
       "      <th>2022-01-04</th>\n",
       "      <td>17805.250000</td>\n",
       "      <td>1493.850464</td>\n",
       "      <td>466.995483</td>\n",
       "      <td>706.618469</td>\n",
       "      <td>0.010187</td>\n",
       "      <td>0.005857</td>\n",
       "      <td>0.026975</td>\n",
       "      <td>0.018382</td>\n",
       "    </tr>\n",
       "    <tr>\n",
       "      <th>2022-01-05</th>\n",
       "      <td>17925.250000</td>\n",
       "      <td>1529.326416</td>\n",
       "      <td>475.591675</td>\n",
       "      <td>724.305115</td>\n",
       "      <td>0.006740</td>\n",
       "      <td>0.023748</td>\n",
       "      <td>0.018407</td>\n",
       "      <td>0.025030</td>\n",
       "    </tr>\n",
       "    <tr>\n",
       "      <th>2022-01-06</th>\n",
       "      <td>17745.900391</td>\n",
       "      <td>1504.796143</td>\n",
       "      <td>474.915588</td>\n",
       "      <td>727.692993</td>\n",
       "      <td>-0.010005</td>\n",
       "      <td>-0.016040</td>\n",
       "      <td>-0.001422</td>\n",
       "      <td>0.004677</td>\n",
       "    </tr>\n",
       "    <tr>\n",
       "      <th>2022-01-07</th>\n",
       "      <td>17812.699219</td>\n",
       "      <td>1515.351074</td>\n",
       "      <td>474.480927</td>\n",
       "      <td>727.991943</td>\n",
       "      <td>0.003764</td>\n",
       "      <td>0.007014</td>\n",
       "      <td>-0.000915</td>\n",
       "      <td>0.000411</td>\n",
       "    </tr>\n",
       "    <tr>\n",
       "      <th>2022-01-10</th>\n",
       "      <td>18003.300781</td>\n",
       "      <td>1523.755737</td>\n",
       "      <td>486.457672</td>\n",
       "      <td>740.148315</td>\n",
       "      <td>0.010700</td>\n",
       "      <td>0.005546</td>\n",
       "      <td>0.025242</td>\n",
       "      <td>0.016698</td>\n",
       "    </tr>\n",
       "  </tbody>\n",
       "</table>\n",
       "</div>"
      ],
      "text/plain": [
       "                   ^NSEI  HDFCBANK.NS     SBIN.NS  AXISBANK.NS  ^NSEI Return  \\\n",
       "Date                                                                           \n",
       "2022-01-04  17805.250000  1493.850464  466.995483   706.618469      0.010187   \n",
       "2022-01-05  17925.250000  1529.326416  475.591675   724.305115      0.006740   \n",
       "2022-01-06  17745.900391  1504.796143  474.915588   727.692993     -0.010005   \n",
       "2022-01-07  17812.699219  1515.351074  474.480927   727.991943      0.003764   \n",
       "2022-01-10  18003.300781  1523.755737  486.457672   740.148315      0.010700   \n",
       "\n",
       "            HDFCBANK.NS Return  SBIN.NS Return  AXISBANK.NS Return  \n",
       "Date                                                                \n",
       "2022-01-04            0.005857        0.026975            0.018382  \n",
       "2022-01-05            0.023748        0.018407            0.025030  \n",
       "2022-01-06           -0.016040       -0.001422            0.004677  \n",
       "2022-01-07            0.007014       -0.000915            0.000411  \n",
       "2022-01-10            0.005546        0.025242            0.016698  "
      ]
     },
     "execution_count": 144,
     "metadata": {},
     "output_type": "execute_result"
    }
   ],
   "source": [
    "for t in tickers:\n",
    "    df[t + ' Return'] = (df[t].pct_change().dropna())\n",
    "df = df[1:]\n",
    "df.head()"
   ]
  },
  {
   "cell_type": "code",
   "execution_count": 145,
   "id": "b530dbd0",
   "metadata": {},
   "outputs": [],
   "source": [
    "returns_lists = [list(df[t + ' Return']) for t in tickers]\n",
    "\n",
    "for i in range(len(returns_lists)):\n",
    "    returns_lists[i] = sorted(returns_lists[i])\n"
   ]
  },
  {
   "cell_type": "code",
   "execution_count": 146,
   "id": "d73d53b5",
   "metadata": {},
   "outputs": [],
   "source": [
    "Var = []\n",
    "ES = []\n",
    "length = len(returns_lists[0])\n",
    "for i in range(len(returns_lists)):\n",
    "    a = round(0.05*length,0)\n",
    "    b = a - 1\n",
    "    SUM = sum(returns_lists[i][:int(b)])\n",
    "    COUNT = len(returns_lists[i][:int(b)])\n",
    "    Var.append(-returns_lists[i][int(a)] * 100)\n",
    "    ES.append(-(SUM/COUNT)*100)\n",
    "    "
   ]
  },
  {
   "cell_type": "code",
   "execution_count": 147,
   "id": "3e112908",
   "metadata": {},
   "outputs": [
    {
     "name": "stdout",
     "output_type": "stream",
     "text": [
      "Var at 95% CI for ^NSEI is 1.5280363131582653%\n",
      "Var at 95% CI for HDFCBANK.NS is 2.2541392989511744%\n",
      "Var at 95% CI for SBIN.NS is 2.2514459997061365%\n",
      "Var at 95% CI for AXISBANK.NS is 2.410800404602198%\n"
     ]
    }
   ],
   "source": [
    "for VAR,Tickers in zip(Var,tickers):\n",
    "    print('Var at 95% CI for ' + Tickers + ' is ' + str(VAR) + '%')"
   ]
  },
  {
   "cell_type": "code",
   "execution_count": 148,
   "id": "cccffa0d",
   "metadata": {},
   "outputs": [
    {
     "name": "stdout",
     "output_type": "stream",
     "text": [
      "ES at 95% CI for ^NSEI is 2.2418243860339313%\n",
      "ES at 95% CI for HDFCBANK.NS is 3.436746226585643%\n",
      "ES at 95% CI for SBIN.NS is 3.5768445806985607%\n",
      "ES at 95% CI for AXISBANK.NS is 3.6417305444915256%\n"
     ]
    }
   ],
   "source": [
    "for Es,Tickers in zip(ES,tickers):\n",
    "    print('ES at 95% CI for ' + Tickers + ' is ' + str(Es) + '%')"
   ]
  },
  {
   "cell_type": "markdown",
   "id": "6a1787d3",
   "metadata": {},
   "source": [
    "# Efficient Frontier"
   ]
  },
  {
   "cell_type": "code",
   "execution_count": 149,
   "id": "ef3c8454",
   "metadata": {},
   "outputs": [],
   "source": [
    "returns = df[[str(S1) + ' Return',str(S2) + ' Return',str(S3) + ' Return']]\n",
    "mean_returns = returns.mean()\n",
    "cov_matrix = returns.cov()\n",
    "num_assets = len(returns.columns)\n",
    "\n",
    "portfolio_returns = []\n",
    "portfolio_volatility = []\n",
    "sharpe_ratio = []\n",
    "\n",
    "for x in range(1000):\n",
    "    weights = np.random.random(num_assets)\n",
    "    weights = weights/np.sum(weights)\n",
    "    portfolio_returns.append(np.sum(mean_returns * weights) * 250) \n",
    "    portfolio_volatility.append(np.sqrt(np.dot(weights.T, np.dot(cov_matrix * 250, weights))))\n",
    "    sharpe_ratio.append(portfolio_returns[x]/portfolio_volatility[x])\n",
    "\n",
    "portfolio_data = pd.DataFrame({'Return': portfolio_returns,'Volatility': portfolio_volatility,'Sharpe Ratio': sharpe_ratio,'Weights 1 ': weights[0],'Weights 2 ': weights[1],'Weights 3 ': weights[2]})\n",
    "\n"
   ]
  },
  {
   "cell_type": "code",
   "execution_count": 150,
   "id": "0c9ea853",
   "metadata": {},
   "outputs": [
    {
     "data": {
      "image/png": "[encoded data removed]",
      "text/plain": [
       "<Figure size 432x288 with 1 Axes>"
      ]
     },
     "metadata": {},
     "output_type": "display_data"
    }
   ],
   "source": [
    "portfolio_data.plot(x='Volatility', y='Return', kind='scatter')\n",
    "plt.title('Efficient Frontier')\n",
    "plt.xlabel('Volatility')\n",
    "plt.ylabel('Return')\n",
    "plt.show()\n"
   ]
  },
  {
   "cell_type": "code",
   "execution_count": 151,
   "id": "1a9e4413",
   "metadata": {},
   "outputs": [
    {
     "data": {
      "text/html": [
       "<div>\n",
       "<style scoped>\n",
       "    .dataframe tbody tr th:only-of-type {\n",
       "        vertical-align: middle;\n",
       "    }\n",
       "\n",
       "    .dataframe tbody tr th {\n",
       "        vertical-align: top;\n",
       "    }\n",
       "\n",
       "    .dataframe thead th {\n",
       "        text-align: right;\n",
       "    }\n",
       "</style>\n",
       "<table border=\"1\" class=\"dataframe\">\n",
       "  <thead>\n",
       "    <tr style=\"text-align: right;\">\n",
       "      <th></th>\n",
       "      <th>Return</th>\n",
       "      <th>Volatility</th>\n",
       "      <th>Sharpe Ratio</th>\n",
       "      <th>Weights 1</th>\n",
       "      <th>Weights 2</th>\n",
       "      <th>Weights 3</th>\n",
       "    </tr>\n",
       "  </thead>\n",
       "  <tbody>\n",
       "    <tr>\n",
       "      <th>0</th>\n",
       "      <td>0.186555</td>\n",
       "      <td>0.198314</td>\n",
       "      <td>0.940706</td>\n",
       "      <td>0.288393</td>\n",
       "      <td>0.59749</td>\n",
       "      <td>0.114117</td>\n",
       "    </tr>\n",
       "    <tr>\n",
       "      <th>1</th>\n",
       "      <td>0.190330</td>\n",
       "      <td>0.198710</td>\n",
       "      <td>0.957825</td>\n",
       "      <td>0.288393</td>\n",
       "      <td>0.59749</td>\n",
       "      <td>0.114117</td>\n",
       "    </tr>\n",
       "    <tr>\n",
       "      <th>2</th>\n",
       "      <td>0.202493</td>\n",
       "      <td>0.203316</td>\n",
       "      <td>0.995953</td>\n",
       "      <td>0.288393</td>\n",
       "      <td>0.59749</td>\n",
       "      <td>0.114117</td>\n",
       "    </tr>\n",
       "    <tr>\n",
       "      <th>3</th>\n",
       "      <td>0.207755</td>\n",
       "      <td>0.206157</td>\n",
       "      <td>1.007750</td>\n",
       "      <td>0.288393</td>\n",
       "      <td>0.59749</td>\n",
       "      <td>0.114117</td>\n",
       "    </tr>\n",
       "    <tr>\n",
       "      <th>4</th>\n",
       "      <td>0.163730</td>\n",
       "      <td>0.204814</td>\n",
       "      <td>0.799409</td>\n",
       "      <td>0.288393</td>\n",
       "      <td>0.59749</td>\n",
       "      <td>0.114117</td>\n",
       "    </tr>\n",
       "  </tbody>\n",
       "</table>\n",
       "</div>"
      ],
      "text/plain": [
       "     Return  Volatility  Sharpe Ratio  Weights 1   Weights 2   Weights 3 \n",
       "0  0.186555    0.198314      0.940706    0.288393     0.59749    0.114117\n",
       "1  0.190330    0.198710      0.957825    0.288393     0.59749    0.114117\n",
       "2  0.202493    0.203316      0.995953    0.288393     0.59749    0.114117\n",
       "3  0.207755    0.206157      1.007750    0.288393     0.59749    0.114117\n",
       "4  0.163730    0.204814      0.799409    0.288393     0.59749    0.114117"
      ]
     },
     "execution_count": 151,
     "metadata": {},
     "output_type": "execute_result"
    }
   ],
   "source": [
    "portfolio_data.head()"
   ]
  },
  {
   "cell_type": "code",
   "execution_count": 152,
   "id": "24087018",
   "metadata": {},
   "outputs": [
    {
     "name": "stdout",
     "output_type": "stream",
     "text": [
      "Global Minimum variance portfolio has: \n",
      "\n",
      "Variance of 19.622555786418484%\n",
      "Return of 17.343048147249892%\n",
      "Weight in HDFCBANK.NS 11.411721052989417%\n",
      "Weight in SBIN.NS 59.74900705620828%\n",
      "Weight in AXISBANK.NS 28.839271890802305%\n",
      "Sharpe Ratio is: 0.5974900705620828\n"
     ]
    }
   ],
   "source": [
    "portfolio_data_reset = portfolio_data.reset_index()\n",
    "Minvar = min(portfolio_data['Volatility'])\n",
    "Minvar_return = portfolio_data_reset.iloc[portfolio_data['Volatility'].idxmin(), 1]\n",
    "value1 = portfolio_data_reset.iloc[portfolio_data['Volatility'].idxmin(), 6]\n",
    "value2 = portfolio_data_reset.iloc[portfolio_data['Volatility'].idxmin(), 5]\n",
    "value3 = portfolio_data_reset.iloc[portfolio_data['Volatility'].idxmin(), 4]\n",
    "value4 = portfolio_data_reset.iloc[portfolio_data['Volatility'].idxmin(), 3]\n",
    "print('Global Minimum variance portfolio has: ' + '\\n')\n",
    "print('Variance of ' + str(Minvar*100) + '%')\n",
    "print('Return of ' + str(Minvar_return*100) + '%')\n",
    "print('Weight in ' + tickers[1] + ' '+str(value1*100)+'%')\n",
    "print('Weight in ' + tickers[2] + ' '+str(value2*100)+'%')\n",
    "print('Weight in ' + tickers[3] + ' '+str(value3*100)+'%')\n",
    "print('Sharpe Ratio is: ' + str(value2))"
   ]
  },
  {
   "cell_type": "markdown",
   "id": "bd361483",
   "metadata": {},
   "source": [
    "# Sharpe Optimal"
   ]
  },
  {
   "cell_type": "markdown",
   "id": "163831cc",
   "metadata": {},
   "source": [
    "sharpe (is incorrect), individual, component, marginal var left"
   ]
  },
  {
   "cell_type": "code",
   "execution_count": 153,
   "id": "ee86c05b",
   "metadata": {},
   "outputs": [
    {
     "data": {
      "text/plain": [
       "<matplotlib.collections.PathCollection at 0x1a47c1b1190>"
      ]
     },
     "execution_count": 153,
     "metadata": {},
     "output_type": "execute_result"
    },
    {
     "data": {
      "image/png": "[encoded data removed]",
      "text/plain": [
       "<Figure size 432x288 with 1 Axes>"
      ]
     },
     "metadata": {},
     "output_type": "display_data"
    }
   ],
   "source": [
    "portfolio_data.plot(x='Volatility', y='Return', kind='scatter')\n",
    "plt.title('Efficient Frontier')\n",
    "plt.xlabel('Volatility')\n",
    "plt.ylabel('Return')\n",
    "plt.scatter(portfolio_data_reset.iloc[portfolio_data['Sharpe Ratio'].idxmax(), 2], portfolio_data_reset.iloc[portfolio_data['Sharpe Ratio'].idxmax(), 1], c='red', s=50, edgecolors='black')"
   ]
  },
  {
   "cell_type": "code",
   "execution_count": 154,
   "id": "f6263d8f",
   "metadata": {},
   "outputs": [],
   "source": [
    "def get_ret_vol_sr(weights): \n",
    "    weights = np.array(weights)\n",
    "    ret = np.sum(mean_returns * weights) * 250\n",
    "    vol = np.sqrt(np.dot(weights.T, np.dot(cov_matrix * 250, weights)))\n",
    "    sr = ret/vol\n",
    "    return np.array([ret,vol,sr])"
   ]
  },
  {
   "cell_type": "code",
   "execution_count": 155,
   "id": "0724e531",
   "metadata": {},
   "outputs": [],
   "source": [
    "from scipy.optimize import minimize"
   ]
  },
  {
   "cell_type": "code",
   "execution_count": 156,
   "id": "ae3d3c61",
   "metadata": {},
   "outputs": [],
   "source": [
    "def neg_sharpe(weights): \n",
    "    return get_ret_vol_sr(weights)[2] * -1"
   ]
  },
  {
   "cell_type": "code",
   "execution_count": 157,
   "id": "e0eb4af0",
   "metadata": {},
   "outputs": [],
   "source": [
    "def check_sum(weights): \n",
    "    return np.sum(weights) - 1\n",
    "#this constrain is satisified when the output is 0\n",
    "def max_weight(weights):\n",
    "    return -(np.max(weights) - 0.5)\n",
    "def min_weight(weights):\n",
    "    return (np.min(weights) - 0.25)\n",
    "#this constrain is satisified when the output is non negative value "
   ]
  },
  {
   "cell_type": "code",
   "execution_count": 158,
   "id": "8f77ea44",
   "metadata": {},
   "outputs": [],
   "source": [
    "cons = ({'type':'eq','fun':check_sum}, {'type':'ineq','fun':max_weight},{'type':'ineq','fun':min_weight})\n",
    "\n",
    "bounds = ((0,1),(0,1),(0,1))"
   ]
  },
  {
   "cell_type": "code",
   "execution_count": 159,
   "id": "c8a19c27",
   "metadata": {},
   "outputs": [],
   "source": [
    "init_guess = [0.25, 0.25, 0.5]\n",
    "\n",
    "opt_results = minimize(neg_sharpe, init_guess, bounds=bounds, constraints=cons)"
   ]
  },
  {
   "cell_type": "code",
   "execution_count": 160,
   "id": "7c3d134f",
   "metadata": {},
   "outputs": [
    {
     "data": {
      "text/plain": [
       "     fun: -1.0131456965552295\n",
       "     jac: array([ 0.27053092, -0.04415843, -0.11318624])\n",
       " message: 'Optimization terminated successfully'\n",
       "    nfev: 20\n",
       "     nit: 5\n",
       "    njev: 5\n",
       "  status: 0\n",
       " success: True\n",
       "       x: array([0.25, 0.25, 0.5 ])"
      ]
     },
     "execution_count": 160,
     "metadata": {},
     "output_type": "execute_result"
    }
   ],
   "source": [
    "opt_results"
   ]
  },
  {
   "cell_type": "code",
   "execution_count": 161,
   "id": "24762451",
   "metadata": {},
   "outputs": [
    {
     "data": {
      "text/plain": [
       "array([25., 25., 50.])"
      ]
     },
     "execution_count": 161,
     "metadata": {},
     "output_type": "execute_result"
    }
   ],
   "source": [
    "opt_results = opt_results.x.round(2)*100\n",
    "opt_results"
   ]
  },
  {
   "cell_type": "markdown",
   "id": "de51095c",
   "metadata": {},
   "source": [
    "# Global Minimum Variance weight  vs Sharpe Optimal weight"
   ]
  },
  {
   "cell_type": "code",
   "execution_count": 180,
   "id": "4b8f0add",
   "metadata": {},
   "outputs": [
    {
     "data": {
      "image/png": "[encoded data removed]",
      "text/plain": [
       "<Figure size 864x288 with 2 Axes>"
      ]
     },
     "metadata": {},
     "output_type": "display_data"
    }
   ],
   "source": [
    "Companies = [S1,S2,S3]\n",
    "Glob_weight = [round(value1, 2) * 100, round(value2, 1) * 100, round(value3, 2) * 100]\n",
    "Sh_weight = list(opt_results)\n",
    "\n",
    "fig, ax = plt.subplots(1, 2, figsize=(12, 4), sharey=True)\n",
    "\n",
    "ax[0].bar(Companies, Glob_weight)\n",
    "ax[0].set_ylabel(\"According to Global Minimum Variance\")\n",
    "ax[0].set_xlabel(\"Stocks\")\n",
    "\n",
    "ax[1].bar(Companies, Sh_weight)\n",
    "ax[1].set_ylabel(\"According to Sharpe Optimal\")\n",
    "ax[1].set_xlabel(\"Stocks\")\n",
    "\n",
    "fig.suptitle(\"Weight Allocation\",size = 15)\n",
    "fig.tight_layout()\n",
    "plt.show()"
   ]
  },
  {
   "cell_type": "markdown",
   "id": "43c32a2c",
   "metadata": {},
   "source": [
    "# Marginal Var"
   ]
  },
  {
   "cell_type": "code",
   "execution_count": 163,
   "id": "7ac5639c",
   "metadata": {},
   "outputs": [],
   "source": [
    "df['Sharpee Portfolio'] = np.dot(np.array(returns),((opt_results.T)/100))"
   ]
  },
  {
   "cell_type": "code",
   "execution_count": 164,
   "id": "8a44655d",
   "metadata": {},
   "outputs": [
    {
     "data": {
      "text/html": [
       "<div>\n",
       "<style scoped>\n",
       "    .dataframe tbody tr th:only-of-type {\n",
       "        vertical-align: middle;\n",
       "    }\n",
       "\n",
       "    .dataframe tbody tr th {\n",
       "        vertical-align: top;\n",
       "    }\n",
       "\n",
       "    .dataframe thead th {\n",
       "        text-align: right;\n",
       "    }\n",
       "</style>\n",
       "<table border=\"1\" class=\"dataframe\">\n",
       "  <thead>\n",
       "    <tr style=\"text-align: right;\">\n",
       "      <th></th>\n",
       "      <th>^NSEI</th>\n",
       "      <th>HDFCBANK.NS</th>\n",
       "      <th>SBIN.NS</th>\n",
       "      <th>AXISBANK.NS</th>\n",
       "      <th>^NSEI Return</th>\n",
       "      <th>HDFCBANK.NS Return</th>\n",
       "      <th>SBIN.NS Return</th>\n",
       "      <th>AXISBANK.NS Return</th>\n",
       "      <th>Sharpee Portfolio</th>\n",
       "    </tr>\n",
       "    <tr>\n",
       "      <th>Date</th>\n",
       "      <th></th>\n",
       "      <th></th>\n",
       "      <th></th>\n",
       "      <th></th>\n",
       "      <th></th>\n",
       "      <th></th>\n",
       "      <th></th>\n",
       "      <th></th>\n",
       "      <th></th>\n",
       "    </tr>\n",
       "  </thead>\n",
       "  <tbody>\n",
       "    <tr>\n",
       "      <th>2022-01-04</th>\n",
       "      <td>17805.250000</td>\n",
       "      <td>1493.850464</td>\n",
       "      <td>466.995483</td>\n",
       "      <td>706.618469</td>\n",
       "      <td>0.010187</td>\n",
       "      <td>0.005857</td>\n",
       "      <td>0.026975</td>\n",
       "      <td>0.018382</td>\n",
       "      <td>0.017399</td>\n",
       "    </tr>\n",
       "    <tr>\n",
       "      <th>2022-01-05</th>\n",
       "      <td>17925.250000</td>\n",
       "      <td>1529.326416</td>\n",
       "      <td>475.591675</td>\n",
       "      <td>724.305115</td>\n",
       "      <td>0.006740</td>\n",
       "      <td>0.023748</td>\n",
       "      <td>0.018407</td>\n",
       "      <td>0.025030</td>\n",
       "      <td>0.023054</td>\n",
       "    </tr>\n",
       "    <tr>\n",
       "      <th>2022-01-06</th>\n",
       "      <td>17745.900391</td>\n",
       "      <td>1504.796143</td>\n",
       "      <td>474.915588</td>\n",
       "      <td>727.692993</td>\n",
       "      <td>-0.010005</td>\n",
       "      <td>-0.016040</td>\n",
       "      <td>-0.001422</td>\n",
       "      <td>0.004677</td>\n",
       "      <td>-0.002027</td>\n",
       "    </tr>\n",
       "    <tr>\n",
       "      <th>2022-01-07</th>\n",
       "      <td>17812.699219</td>\n",
       "      <td>1515.351074</td>\n",
       "      <td>474.480927</td>\n",
       "      <td>727.991943</td>\n",
       "      <td>0.003764</td>\n",
       "      <td>0.007014</td>\n",
       "      <td>-0.000915</td>\n",
       "      <td>0.000411</td>\n",
       "      <td>0.001730</td>\n",
       "    </tr>\n",
       "    <tr>\n",
       "      <th>2022-01-10</th>\n",
       "      <td>18003.300781</td>\n",
       "      <td>1523.755737</td>\n",
       "      <td>486.457672</td>\n",
       "      <td>740.148315</td>\n",
       "      <td>0.010700</td>\n",
       "      <td>0.005546</td>\n",
       "      <td>0.025242</td>\n",
       "      <td>0.016698</td>\n",
       "      <td>0.016046</td>\n",
       "    </tr>\n",
       "    <tr>\n",
       "      <th>...</th>\n",
       "      <td>...</td>\n",
       "      <td>...</td>\n",
       "      <td>...</td>\n",
       "      <td>...</td>\n",
       "      <td>...</td>\n",
       "      <td>...</td>\n",
       "      <td>...</td>\n",
       "      <td>...</td>\n",
       "      <td>...</td>\n",
       "    </tr>\n",
       "    <tr>\n",
       "      <th>2023-07-03</th>\n",
       "      <td>19322.550781</td>\n",
       "      <td>1719.800049</td>\n",
       "      <td>585.450012</td>\n",
       "      <td>980.083679</td>\n",
       "      <td>0.006957</td>\n",
       "      <td>0.010815</td>\n",
       "      <td>0.021995</td>\n",
       "      <td>-0.005418</td>\n",
       "      <td>0.005493</td>\n",
       "    </tr>\n",
       "    <tr>\n",
       "      <th>2023-07-04</th>\n",
       "      <td>19389.000000</td>\n",
       "      <td>1728.199951</td>\n",
       "      <td>589.250000</td>\n",
       "      <td>968.707153</td>\n",
       "      <td>0.003439</td>\n",
       "      <td>0.004884</td>\n",
       "      <td>0.006491</td>\n",
       "      <td>-0.011608</td>\n",
       "      <td>-0.002960</td>\n",
       "    </tr>\n",
       "    <tr>\n",
       "      <th>2023-07-05</th>\n",
       "      <td>19398.500000</td>\n",
       "      <td>1673.300049</td>\n",
       "      <td>590.599976</td>\n",
       "      <td>964.515747</td>\n",
       "      <td>0.000490</td>\n",
       "      <td>-0.031767</td>\n",
       "      <td>0.002291</td>\n",
       "      <td>-0.004327</td>\n",
       "      <td>-0.009532</td>\n",
       "    </tr>\n",
       "    <tr>\n",
       "      <th>2023-07-06</th>\n",
       "      <td>19497.300781</td>\n",
       "      <td>1675.000000</td>\n",
       "      <td>592.500000</td>\n",
       "      <td>979.950012</td>\n",
       "      <td>0.005093</td>\n",
       "      <td>0.001016</td>\n",
       "      <td>0.003217</td>\n",
       "      <td>0.016002</td>\n",
       "      <td>0.009059</td>\n",
       "    </tr>\n",
       "    <tr>\n",
       "      <th>2023-07-07</th>\n",
       "      <td>19331.800781</td>\n",
       "      <td>1660.400024</td>\n",
       "      <td>593.599976</td>\n",
       "      <td>976.700012</td>\n",
       "      <td>-0.008488</td>\n",
       "      <td>-0.008716</td>\n",
       "      <td>0.001856</td>\n",
       "      <td>-0.003316</td>\n",
       "      <td>-0.003373</td>\n",
       "    </tr>\n",
       "  </tbody>\n",
       "</table>\n",
       "<p>374 rows × 9 columns</p>\n",
       "</div>"
      ],
      "text/plain": [
       "                   ^NSEI  HDFCBANK.NS     SBIN.NS  AXISBANK.NS  ^NSEI Return  \\\n",
       "Date                                                                           \n",
       "2022-01-04  17805.250000  1493.850464  466.995483   706.618469      0.010187   \n",
       "2022-01-05  17925.250000  1529.326416  475.591675   724.305115      0.006740   \n",
       "2022-01-06  17745.900391  1504.796143  474.915588   727.692993     -0.010005   \n",
       "2022-01-07  17812.699219  1515.351074  474.480927   727.991943      0.003764   \n",
       "2022-01-10  18003.300781  1523.755737  486.457672   740.148315      0.010700   \n",
       "...                  ...          ...         ...          ...           ...   \n",
       "2023-07-03  19322.550781  1719.800049  585.450012   980.083679      0.006957   \n",
       "2023-07-04  19389.000000  1728.199951  589.250000   968.707153      0.003439   \n",
       "2023-07-05  19398.500000  1673.300049  590.599976   964.515747      0.000490   \n",
       "2023-07-06  19497.300781  1675.000000  592.500000   979.950012      0.005093   \n",
       "2023-07-07  19331.800781  1660.400024  593.599976   976.700012     -0.008488   \n",
       "\n",
       "            HDFCBANK.NS Return  SBIN.NS Return  AXISBANK.NS Return  \\\n",
       "Date                                                                 \n",
       "2022-01-04            0.005857        0.026975            0.018382   \n",
       "2022-01-05            0.023748        0.018407            0.025030   \n",
       "2022-01-06           -0.016040       -0.001422            0.004677   \n",
       "2022-01-07            0.007014       -0.000915            0.000411   \n",
       "2022-01-10            0.005546        0.025242            0.016698   \n",
       "...                        ...             ...                 ...   \n",
       "2023-07-03            0.010815        0.021995           -0.005418   \n",
       "2023-07-04            0.004884        0.006491           -0.011608   \n",
       "2023-07-05           -0.031767        0.002291           -0.004327   \n",
       "2023-07-06            0.001016        0.003217            0.016002   \n",
       "2023-07-07           -0.008716        0.001856           -0.003316   \n",
       "\n",
       "            Sharpee Portfolio  \n",
       "Date                           \n",
       "2022-01-04           0.017399  \n",
       "2022-01-05           0.023054  \n",
       "2022-01-06          -0.002027  \n",
       "2022-01-07           0.001730  \n",
       "2022-01-10           0.016046  \n",
       "...                       ...  \n",
       "2023-07-03           0.005493  \n",
       "2023-07-04          -0.002960  \n",
       "2023-07-05          -0.009532  \n",
       "2023-07-06           0.009059  \n",
       "2023-07-07          -0.003373  \n",
       "\n",
       "[374 rows x 9 columns]"
      ]
     },
     "execution_count": 164,
     "metadata": {},
     "output_type": "execute_result"
    }
   ],
   "source": [
    "df"
   ]
  },
  {
   "cell_type": "code",
   "execution_count": 165,
   "id": "87888d1d",
   "metadata": {},
   "outputs": [
    {
     "name": "stdout",
     "output_type": "stream",
     "text": [
      "Marginal Var of  HDFCBANK.NS is 0.01923584179689565\n",
      "Marginal Var of  SBIN.NS is 0.024451893681093337\n",
      "Marginal Var of  AXISBANK.NS is 0.029133459638365097\n"
     ]
    }
   ],
   "source": [
    "std =(df['Sharpee Portfolio'].std())\n",
    "cov =np.dot(cov_matrix,(opt_results.T)/100)\n",
    "z = 1.65\n",
    "Mvar = []\n",
    "for i in range(len(tickers)-1):\n",
    "    Mvar.append(cov[i]*1.96/std)\n",
    "for mvar,stock in zip(Mvar,tickers[1:]):\n",
    "    print('Marginal Var of ',stock,'is',mvar)"
   ]
  },
  {
   "cell_type": "markdown",
   "id": "1fdc6124",
   "metadata": {},
   "source": [
    "# Component Var"
   ]
  },
  {
   "cell_type": "code",
   "execution_count": 166,
   "id": "50b6a494",
   "metadata": {},
   "outputs": [
    {
     "name": "stdout",
     "output_type": "stream",
     "text": [
      "Component Var of  HDFCBANK.NS is 4808.960449223912 or 18.87 % of the total portfolio.\n",
      "Component Var of  SBIN.NS is 6112.973420273334 or 23.98 % of the total portfolio.\n",
      "Component Var of  AXISBANK.NS is 14566.729819182548 or 57.15 % of the total portfolio.\n"
     ]
    }
   ],
   "source": [
    "Cvar_abs = []\n",
    "for i in range(len(tickers)-1): \n",
    "    Cvar_abs.append(Mvar[i]*opt_results[i]*Amt_Invested)\n",
    "Cvar_per = []\n",
    "for i in range(len(tickers) - 1):\n",
    "    Cvar_per.append(Cvar_abs[i]*100/sum(Cvar_abs))\n",
    "for cvar_ab,cvar_p,stock in zip(Cvar_abs,Cvar_per,tickers[1:]):\n",
    "    print('Component Var of ',stock,'is',cvar_ab,'or',round(cvar_p,2),'% of the total portfolio.')"
   ]
  },
  {
   "cell_type": "markdown",
   "id": "ff9d842a",
   "metadata": {},
   "source": [
    "# Marginal Var Optimisation"
   ]
  },
  {
   "cell_type": "code",
   "execution_count": 167,
   "id": "8a19da4d",
   "metadata": {},
   "outputs": [
    {
     "data": {
      "text/plain": [
       "[0.07198861389735867, 0.17088855274514425, 0.23723164638369587]"
      ]
     },
     "execution_count": 167,
     "metadata": {},
     "output_type": "execute_result"
    }
   ],
   "source": [
    "Company = [str(S1),str(S2),str(S3)]\n",
    "rfr = 0.05\n",
    "\n",
    "delta = (end-start).days/365\n",
    "AR = []\n",
    "for i in range(len(tickers)-1):\n",
    "    column_name = df.columns[i+1]\n",
    "    first_value = df[column_name].iloc[0]\n",
    "    last_value = df[column_name].iloc[-1]\n",
    "    AR.append((last_value/first_value)**(1/delta)-1)\n",
    "AR"
   ]
  },
  {
   "cell_type": "code",
   "execution_count": 168,
   "id": "f38e947c",
   "metadata": {},
   "outputs": [],
   "source": [
    "def equal_er(weights):\n",
    "    ret = np.sum(mean_returns * weights) * 250\n",
    "    vol = np.sqrt(np.dot(weights.T, np.dot(cov_matrix * 250, weights)))\n",
    "    cov =np.dot(cov_matrix,(opt_results.T)/100)\n",
    "    z = 1.65\n",
    "    Mvar = []\n",
    "    er = []\n",
    "    for i in range(len(tickers)-1):\n",
    "        Mvar.append(cov[i]*1.96/vol)\n",
    "        er.append(AR[i]-rfr/Mvar[i])\n",
    "    return 2*er[0]-er[1]-er[2]"
   ]
  },
  {
   "cell_type": "code",
   "execution_count": 169,
   "id": "33881786",
   "metadata": {},
   "outputs": [],
   "source": [
    "def check_sum(weights): \n",
    "    return np.sum(weights) - 1\n",
    "#this constrain is satisified when the output is 0\n",
    "def max_weight(weights):\n",
    "    return -(np.max(weights) - 0.5)\n",
    "def min_weight(weights):\n",
    "    return (np.min(weights) - 0.25)\n",
    "#this constrain is satisified when the output is non negative value "
   ]
  },
  {
   "cell_type": "code",
   "execution_count": 170,
   "id": "435be64c",
   "metadata": {},
   "outputs": [],
   "source": [
    "cons = ({'type':'eq','fun':check_sum}, {'type':'ineq','fun':max_weight},{'type':'ineq','fun':min_weight})\n",
    "\n",
    "bounds = ((0,1),(0,1),(0,1))"
   ]
  },
  {
   "cell_type": "code",
   "execution_count": 171,
   "id": "d8d8be87",
   "metadata": {},
   "outputs": [],
   "source": [
    "init_guess = [0.25, 0.25, 0.5]\n",
    "\n",
    "opt_results2 = minimize(equal_er, init_guess,method='SLSQP', bounds=bounds, constraints=cons)"
   ]
  },
  {
   "cell_type": "code",
   "execution_count": 172,
   "id": "be973160",
   "metadata": {},
   "outputs": [
    {
     "data": {
      "text/plain": [
       "     fun: -22.993925028111164\n",
       "     jac: array([-17.15376353, -21.80523157, -25.98006787])\n",
       " message: 'Optimization terminated successfully'\n",
       "    nfev: 20\n",
       "     nit: 5\n",
       "    njev: 5\n",
       "  status: 0\n",
       " success: True\n",
       "       x: array([0.25, 0.25, 0.5 ])"
      ]
     },
     "execution_count": 172,
     "metadata": {},
     "output_type": "execute_result"
    }
   ],
   "source": [
    "opt_results2"
   ]
  },
  {
   "cell_type": "markdown",
   "id": "7982c9cb",
   "metadata": {},
   "source": [
    "# Minimum Variance vs Sharpee optimal vs Mvar optimal"
   ]
  },
  {
   "cell_type": "code",
   "execution_count": 178,
   "id": "dce800aa",
   "metadata": {},
   "outputs": [
    {
     "data": {
      "image/png": "[encoded data removed]",
      "text/plain": [
       "<Figure size 864x288 with 3 Axes>"
      ]
     },
     "metadata": {},
     "output_type": "display_data"
    }
   ],
   "source": [
    "Companies = [S1,S2,S3]\n",
    "Glob_weight = [round(value1, 2) * 100, round(value2, 1) * 100, round(value3, 2) * 100]\n",
    "Sh_weight = list(opt_results)\n",
    "mvar_weight = list(opt_results2.x.round(2) * 100)\n",
    "\n",
    "fig, ax = plt.subplots(1, 3, figsize=(12, 4), sharey=True)\n",
    "\n",
    "ax[0].bar(Companies, Glob_weight)\n",
    "ax[0].set_ylabel(\"According to Global Minimum Variance\")\n",
    "ax[0].set_xlabel(\"Stocks\")\n",
    "\n",
    "ax[1].bar(Companies, Sh_weight)\n",
    "ax[1].set_ylabel(\"According to Sharpe Optimal\")\n",
    "ax[1].set_xlabel(\"Stocks\")\n",
    "\n",
    "ax[2].bar(Companies, mvar_weight)\n",
    "ax[2].set_ylabel(\"According to Mvar Optimal\")\n",
    "ax[2].set_xlabel(\"Stocks\")\n",
    "\n",
    "fig.suptitle(\"Weight Allocation\", size=15)\n",
    "fig.tight_layout()\n",
    "plt.show()\n"
   ]
  },
  {
   "cell_type": "code",
   "execution_count": null,
   "id": "4239302f",
   "metadata": {},
   "outputs": [],
   "source": []
  }
 ],
 "metadata": {
  "kernelspec": {
   "display_name": "Python 3 (ipykernel)",
   "language": "python",
   "name": "python3"
  },
  "language_info": {
   "codemirror_mode": {
    "name": "ipython",
    "version": 3
   },
   "file_extension": ".py",
   "mimetype": "text/x-python",
   "name": "python",
   "nbconvert_exporter": "python",
   "pygments_lexer": "ipython3",
   "version": "3.9.12"
  }
 },
 "nbformat": 4,
 "nbformat_minor": 5
}
